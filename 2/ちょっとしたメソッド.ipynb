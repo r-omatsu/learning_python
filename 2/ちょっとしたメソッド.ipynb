{
 "cells": [
  {
   "cell_type": "code",
   "execution_count": null,
   "id": "65981220",
   "metadata": {},
   "outputs": [],
   "source": [
    "# 初恋から何年？\n",
    "print('年はいくつ？')\n",
    "age = int(input('you > '))\n",
    "print('初恋したのはいくつのとき？')\n",
    "first_love = int(input('you > '))\n",
    "print('あれから' + str(age - first_love) + '年経ちましたね（T_T）')"
   ]
  },
  {
   "cell_type": "code",
   "execution_count": 1,
   "id": "677a4811",
   "metadata": {},
   "outputs": [
    {
     "name": "stdout",
     "output_type": "stream",
     "text": [
      "身長（cm）は？\n",
      "you > 175\n",
      "身長が175.0cmの場合の標準体重は 67.38kgです\n"
     ]
    }
   ],
   "source": [
    "# BMIから標準体重を求める\n",
    "print('身長（cm）は？')\n",
    "height = float(input('you > '))\n",
    "bmi = 22\n",
    "weight = bmi * (height / 100)**2\n",
    "# end=でprintの最後に出力される文字を制御できる\n",
    "print('身長が' + str(height) + 'cmの場合の標準体重は', end='')\n",
    "print('{: .2f}kgです'.format(weight))"
   ]
  },
  {
   "cell_type": "code",
   "execution_count": null,
   "id": "1efc81c6",
   "metadata": {},
   "outputs": [],
   "source": []
  },
  {
   "cell_type": "code",
   "execution_count": null,
   "id": "a95512ce",
   "metadata": {},
   "outputs": [],
   "source": []
  },
  {
   "cell_type": "code",
   "execution_count": null,
   "id": "1e8d135e",
   "metadata": {},
   "outputs": [],
   "source": []
  },
  {
   "cell_type": "code",
   "execution_count": null,
   "id": "ba0f392b",
   "metadata": {},
   "outputs": [],
   "source": []
  }
 ],
 "metadata": {
  "kernelspec": {
   "display_name": "Python 3 (ipykernel)",
   "language": "python",
   "name": "python3"
  },
  "language_info": {
   "codemirror_mode": {
    "name": "ipython",
    "version": 3
   },
   "file_extension": ".py",
   "mimetype": "text/x-python",
   "name": "python",
   "nbconvert_exporter": "python",
   "pygments_lexer": "ipython3",
   "version": "3.9.13"
  }
 },
 "nbformat": 4,
 "nbformat_minor": 5
}
