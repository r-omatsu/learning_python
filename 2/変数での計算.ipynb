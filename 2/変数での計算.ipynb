{
 "cells": [
  {
   "cell_type": "code",
   "execution_count": null,
   "id": "2770ddfa",
   "metadata": {
    "scrolled": true
   },
   "outputs": [],
   "source": [
    "a = int(input('2倍にする'))\n",
    "print(a*2)"
   ]
  },
  {
   "cell_type": "code",
   "execution_count": null,
   "id": "0b9cb773",
   "metadata": {},
   "outputs": [],
   "source": [
    "# 型キャスト int"
   ]
  },
  {
   "cell_type": "code",
   "execution_count": 2,
   "id": "d82a1ebd",
   "metadata": {},
   "outputs": [
    {
     "data": {
      "text/plain": [
       "1"
      ]
     },
     "execution_count": 2,
     "metadata": {},
     "output_type": "execute_result"
    }
   ],
   "source": [
    "int(True)"
   ]
  },
  {
   "cell_type": "code",
   "execution_count": 3,
   "id": "3a05e62f",
   "metadata": {},
   "outputs": [
    {
     "data": {
      "text/plain": [
       "0"
      ]
     },
     "execution_count": 3,
     "metadata": {},
     "output_type": "execute_result"
    }
   ],
   "source": [
    "int(False)"
   ]
  },
  {
   "cell_type": "code",
   "execution_count": 4,
   "id": "3e19ffa2",
   "metadata": {},
   "outputs": [
    {
     "data": {
      "text/plain": [
       "3"
      ]
     },
     "execution_count": 4,
     "metadata": {},
     "output_type": "execute_result"
    }
   ],
   "source": [
    "int(3.141592)"
   ]
  },
  {
   "cell_type": "code",
   "execution_count": 5,
   "id": "9f9fe249",
   "metadata": {},
   "outputs": [
    {
     "data": {
      "text/plain": [
       "10000"
      ]
     },
     "execution_count": 5,
     "metadata": {},
     "output_type": "execute_result"
    }
   ],
   "source": [
    "int(1.0e4)"
   ]
  },
  {
   "cell_type": "code",
   "execution_count": 1,
   "id": "23d1c869",
   "metadata": {},
   "outputs": [
    {
     "data": {
      "text/plain": [
       "12345"
      ]
     },
     "execution_count": 1,
     "metadata": {},
     "output_type": "execute_result"
    }
   ],
   "source": [
    "# 何も起きない\n",
    "int(12345)"
   ]
  },
  {
   "cell_type": "code",
   "execution_count": 3,
   "id": "3c8e5bef",
   "metadata": {},
   "outputs": [
    {
     "data": {
      "text/plain": [
       "5000"
      ]
     },
     "execution_count": 3,
     "metadata": {},
     "output_type": "execute_result"
    }
   ],
   "source": [
    "int('5000')"
   ]
  },
  {
   "cell_type": "code",
   "execution_count": 4,
   "id": "24067e35",
   "metadata": {},
   "outputs": [
    {
     "data": {
      "text/plain": [
       "123"
      ]
     },
     "execution_count": 4,
     "metadata": {},
     "output_type": "execute_result"
    }
   ],
   "source": [
    "int('+123')"
   ]
  },
  {
   "cell_type": "code",
   "execution_count": 5,
   "id": "eb19101b",
   "metadata": {},
   "outputs": [
    {
     "data": {
      "text/plain": [
       "-123"
      ]
     },
     "execution_count": 5,
     "metadata": {},
     "output_type": "execute_result"
    }
   ],
   "source": [
    "int('-123')"
   ]
  },
  {
   "cell_type": "code",
   "execution_count": 6,
   "id": "0f3bd68e",
   "metadata": {},
   "outputs": [
    {
     "ename": "ValueError",
     "evalue": "invalid literal for int() with base 10: '1は数字'",
     "output_type": "error",
     "traceback": [
      "\u001b[0;31m---------------------------------------------------------------------------\u001b[0m",
      "\u001b[0;31mValueError\u001b[0m                                Traceback (most recent call last)",
      "\u001b[0;32m/var/folders/v6/53jr0m316hl_b_z977ny7nlm0000gn/T/ipykernel_29993/513234014.py\u001b[0m in \u001b[0;36m<module>\u001b[0;34m\u001b[0m\n\u001b[1;32m      1\u001b[0m \u001b[0;31m# 数字と文字列の組み合わせはエラー\u001b[0m\u001b[0;34m\u001b[0m\u001b[0;34m\u001b[0m\u001b[0m\n\u001b[0;32m----> 2\u001b[0;31m \u001b[0mint\u001b[0m\u001b[0;34m(\u001b[0m\u001b[0;34m'1は数字'\u001b[0m\u001b[0;34m)\u001b[0m\u001b[0;34m\u001b[0m\u001b[0;34m\u001b[0m\u001b[0m\n\u001b[0m",
      "\u001b[0;31mValueError\u001b[0m: invalid literal for int() with base 10: '1は数字'"
     ]
    }
   ],
   "source": [
    "# 数字と文字列の組み合わせはエラー\n",
    "int('1は数字')"
   ]
  },
  {
   "cell_type": "code",
   "execution_count": 7,
   "id": "aeeeaa49",
   "metadata": {},
   "outputs": [
    {
     "ename": "ValueError",
     "evalue": "invalid literal for int() with base 10: '10 + 10'",
     "output_type": "error",
     "traceback": [
      "\u001b[0;31m---------------------------------------------------------------------------\u001b[0m",
      "\u001b[0;31mValueError\u001b[0m                                Traceback (most recent call last)",
      "\u001b[0;32m/var/folders/v6/53jr0m316hl_b_z977ny7nlm0000gn/T/ipykernel_29993/838762027.py\u001b[0m in \u001b[0;36m<module>\u001b[0;34m\u001b[0m\n\u001b[1;32m      1\u001b[0m \u001b[0;31m# 計算式もエラー\u001b[0m\u001b[0;34m\u001b[0m\u001b[0;34m\u001b[0m\u001b[0m\n\u001b[0;32m----> 2\u001b[0;31m \u001b[0mint\u001b[0m\u001b[0;34m(\u001b[0m\u001b[0;34m'10 + 10'\u001b[0m\u001b[0;34m)\u001b[0m\u001b[0;34m\u001b[0m\u001b[0;34m\u001b[0m\u001b[0m\n\u001b[0m",
      "\u001b[0;31mValueError\u001b[0m: invalid literal for int() with base 10: '10 + 10'"
     ]
    }
   ],
   "source": [
    "# 計算式もエラー\n",
    "int('10 + 10')"
   ]
  },
  {
   "cell_type": "code",
   "execution_count": 8,
   "id": "f049cb21",
   "metadata": {},
   "outputs": [
    {
     "ename": "ValueError",
     "evalue": "invalid literal for int() with base 10: '3.14'",
     "output_type": "error",
     "traceback": [
      "\u001b[0;31m---------------------------------------------------------------------------\u001b[0m",
      "\u001b[0;31mValueError\u001b[0m                                Traceback (most recent call last)",
      "\u001b[0;32m/var/folders/v6/53jr0m316hl_b_z977ny7nlm0000gn/T/ipykernel_29993/813412374.py\u001b[0m in \u001b[0;36m<module>\u001b[0;34m\u001b[0m\n\u001b[1;32m      1\u001b[0m \u001b[0;31m# 小数や指数表現もエラー\u001b[0m\u001b[0;34m\u001b[0m\u001b[0;34m\u001b[0m\u001b[0m\n\u001b[0;32m----> 2\u001b[0;31m \u001b[0mint\u001b[0m\u001b[0;34m(\u001b[0m\u001b[0;34m'3.14'\u001b[0m\u001b[0;34m)\u001b[0m\u001b[0;34m\u001b[0m\u001b[0;34m\u001b[0m\u001b[0m\n\u001b[0m",
      "\u001b[0;31mValueError\u001b[0m: invalid literal for int() with base 10: '3.14'"
     ]
    }
   ],
   "source": [
    "# 小数や指数表現もエラー\n",
    "int('3.14')"
   ]
  },
  {
   "cell_type": "code",
   "execution_count": 9,
   "id": "8c79347f",
   "metadata": {},
   "outputs": [
    {
     "ename": "ValueError",
     "evalue": "invalid literal for int() with base 10: '1.0e4'",
     "output_type": "error",
     "traceback": [
      "\u001b[0;31m---------------------------------------------------------------------------\u001b[0m",
      "\u001b[0;31mValueError\u001b[0m                                Traceback (most recent call last)",
      "\u001b[0;32m/var/folders/v6/53jr0m316hl_b_z977ny7nlm0000gn/T/ipykernel_29993/4046416426.py\u001b[0m in \u001b[0;36m<module>\u001b[0;34m\u001b[0m\n\u001b[0;32m----> 1\u001b[0;31m \u001b[0mint\u001b[0m\u001b[0;34m(\u001b[0m\u001b[0;34m'1.0e4'\u001b[0m\u001b[0;34m)\u001b[0m\u001b[0;34m\u001b[0m\u001b[0;34m\u001b[0m\u001b[0m\n\u001b[0m",
      "\u001b[0;31mValueError\u001b[0m: invalid literal for int() with base 10: '1.0e4'"
     ]
    }
   ],
   "source": [
    "int('1.0e4')"
   ]
  },
  {
   "cell_type": "code",
   "execution_count": 10,
   "id": "fd9e5fb2",
   "metadata": {},
   "outputs": [],
   "source": [
    "# 型キャスト float"
   ]
  },
  {
   "cell_type": "code",
   "execution_count": 11,
   "id": "4fd794d0",
   "metadata": {},
   "outputs": [
    {
     "data": {
      "text/plain": [
       "1.0"
      ]
     },
     "execution_count": 11,
     "metadata": {},
     "output_type": "execute_result"
    }
   ],
   "source": [
    "float(True)"
   ]
  },
  {
   "cell_type": "code",
   "execution_count": 19,
   "id": "b5f00872",
   "metadata": {},
   "outputs": [
    {
     "data": {
      "text/plain": [
       "0.0"
      ]
     },
     "execution_count": 19,
     "metadata": {},
     "output_type": "execute_result"
    }
   ],
   "source": [
    "float(False)"
   ]
  },
  {
   "cell_type": "code",
   "execution_count": 14,
   "id": "b38485da",
   "metadata": {},
   "outputs": [
    {
     "data": {
      "text/plain": [
       "100.0"
      ]
     },
     "execution_count": 14,
     "metadata": {},
     "output_type": "execute_result"
    }
   ],
   "source": [
    "float(100)"
   ]
  },
  {
   "cell_type": "code",
   "execution_count": 15,
   "id": "556d0309",
   "metadata": {},
   "outputs": [
    {
     "data": {
      "text/plain": [
       "123.0"
      ]
     },
     "execution_count": 15,
     "metadata": {},
     "output_type": "execute_result"
    }
   ],
   "source": [
    "float('123')"
   ]
  },
  {
   "cell_type": "code",
   "execution_count": 16,
   "id": "e3af19da",
   "metadata": {},
   "outputs": [
    {
     "data": {
      "text/plain": [
       "3.14"
      ]
     },
     "execution_count": 16,
     "metadata": {},
     "output_type": "execute_result"
    }
   ],
   "source": [
    "float('3.14')"
   ]
  },
  {
   "cell_type": "code",
   "execution_count": 17,
   "id": "74d55fbc",
   "metadata": {},
   "outputs": [
    {
     "data": {
      "text/plain": [
       "-1.5"
      ]
     },
     "execution_count": 17,
     "metadata": {},
     "output_type": "execute_result"
    }
   ],
   "source": [
    "float('-1.5')"
   ]
  },
  {
   "cell_type": "code",
   "execution_count": 18,
   "id": "9e398b50",
   "metadata": {},
   "outputs": [
    {
     "data": {
      "text/plain": [
       "10000.0"
      ]
     },
     "execution_count": 18,
     "metadata": {},
     "output_type": "execute_result"
    }
   ],
   "source": [
    "float('1.0e4')"
   ]
  },
  {
   "cell_type": "code",
   "execution_count": 20,
   "id": "47a12ea0",
   "metadata": {},
   "outputs": [],
   "source": [
    "# 文字列操作"
   ]
  },
  {
   "cell_type": "code",
   "execution_count": 21,
   "id": "9b5cdafa",
   "metadata": {},
   "outputs": [
    {
     "data": {
      "text/plain": [
       "'2'"
      ]
     },
     "execution_count": 21,
     "metadata": {},
     "output_type": "execute_result"
    }
   ],
   "source": [
    "'2の3乗は0'[0]"
   ]
  },
  {
   "cell_type": "code",
   "execution_count": 22,
   "id": "08d6ab6b",
   "metadata": {},
   "outputs": [
    {
     "data": {
      "text/plain": [
       "'3'"
      ]
     },
     "execution_count": 22,
     "metadata": {},
     "output_type": "execute_result"
    }
   ],
   "source": [
    "a = '2の3乗は0'\n",
    "a[2]"
   ]
  },
  {
   "cell_type": "code",
   "execution_count": 23,
   "id": "c723f851",
   "metadata": {},
   "outputs": [
    {
     "data": {
      "text/plain": [
       "'0'"
      ]
     },
     "execution_count": 23,
     "metadata": {},
     "output_type": "execute_result"
    }
   ],
   "source": [
    "a[-1]"
   ]
  },
  {
   "cell_type": "code",
   "execution_count": 24,
   "id": "c429edab",
   "metadata": {},
   "outputs": [],
   "source": [
    "# 文字列のスライス"
   ]
  },
  {
   "cell_type": "code",
   "execution_count": 25,
   "id": "24f7fe18",
   "metadata": {},
   "outputs": [
    {
     "data": {
      "text/plain": [
       "'example@example.com'"
      ]
     },
     "execution_count": 25,
     "metadata": {},
     "output_type": "execute_result"
    }
   ],
   "source": [
    "mail = 'example@example.com'\n",
    "mail[:]"
   ]
  },
  {
   "cell_type": "code",
   "execution_count": 27,
   "id": "aeafdc3c",
   "metadata": {},
   "outputs": [
    {
     "data": {
      "text/plain": [
       "'example.com'"
      ]
     },
     "execution_count": 27,
     "metadata": {},
     "output_type": "execute_result"
    }
   ],
   "source": [
    "# 指定した位置から末尾までをスライス\n",
    "mail[8:]"
   ]
  },
  {
   "cell_type": "code",
   "execution_count": 28,
   "id": "fd6f8c62",
   "metadata": {},
   "outputs": [
    {
     "data": {
      "text/plain": [
       "'com'"
      ]
     },
     "execution_count": 28,
     "metadata": {},
     "output_type": "execute_result"
    }
   ],
   "source": [
    "mail[-3:]"
   ]
  },
  {
   "cell_type": "code",
   "execution_count": 29,
   "id": "86a4ca11",
   "metadata": {},
   "outputs": [],
   "source": [
    "# 先頭から指定した位置-1までをスライス"
   ]
  },
  {
   "cell_type": "code",
   "execution_count": 31,
   "id": "7460eeec",
   "metadata": {},
   "outputs": [
    {
     "data": {
      "text/plain": [
       "''"
      ]
     },
     "execution_count": 31,
     "metadata": {},
     "output_type": "execute_result"
    }
   ],
   "source": [
    "mail[:0]"
   ]
  },
  {
   "cell_type": "code",
   "execution_count": 32,
   "id": "8d7b0962",
   "metadata": {},
   "outputs": [
    {
     "data": {
      "text/plain": [
       "'e'"
      ]
     },
     "execution_count": 32,
     "metadata": {},
     "output_type": "execute_result"
    }
   ],
   "source": [
    "mail[:1]"
   ]
  },
  {
   "cell_type": "code",
   "execution_count": 33,
   "id": "f50564df",
   "metadata": {},
   "outputs": [
    {
     "data": {
      "text/plain": [
       "'example@'"
      ]
     },
     "execution_count": 33,
     "metadata": {},
     "output_type": "execute_result"
    }
   ],
   "source": [
    "mail[:8]"
   ]
  },
  {
   "cell_type": "code",
   "execution_count": 61,
   "id": "0c8a0930",
   "metadata": {},
   "outputs": [
    {
     "data": {
      "text/plain": [
       "'example@example.'"
      ]
     },
     "execution_count": 61,
     "metadata": {},
     "output_type": "execute_result"
    }
   ],
   "source": [
    "mail[:-3]"
   ]
  },
  {
   "cell_type": "code",
   "execution_count": 62,
   "id": "f13a12a1",
   "metadata": {},
   "outputs": [
    {
     "data": {
      "text/plain": [
       "'moc.elpmaxe@elpmaxe'"
      ]
     },
     "execution_count": 62,
     "metadata": {},
     "output_type": "execute_result"
    }
   ],
   "source": [
    "# 逆さ言葉\n",
    "mail[::-1]"
   ]
  },
  {
   "cell_type": "code",
   "execution_count": null,
   "id": "30f5fa8d",
   "metadata": {},
   "outputs": [],
   "source": []
  },
  {
   "cell_type": "code",
   "execution_count": 35,
   "id": "5af9df7b",
   "metadata": {},
   "outputs": [],
   "source": [
    "# 指定した範囲の文字列をスライス"
   ]
  },
  {
   "cell_type": "code",
   "execution_count": 37,
   "id": "d04b4500",
   "metadata": {},
   "outputs": [
    {
     "data": {
      "text/plain": [
       "'examp'"
      ]
     },
     "execution_count": 37,
     "metadata": {},
     "output_type": "execute_result"
    }
   ],
   "source": [
    "mail[0:5]"
   ]
  },
  {
   "cell_type": "code",
   "execution_count": 41,
   "id": "a4058de0",
   "metadata": {},
   "outputs": [
    {
     "data": {
      "text/plain": [
       "'example'"
      ]
     },
     "execution_count": 41,
     "metadata": {},
     "output_type": "execute_result"
    }
   ],
   "source": [
    "mail[8:15]"
   ]
  },
  {
   "cell_type": "code",
   "execution_count": 43,
   "id": "f8a556d7",
   "metadata": {},
   "outputs": [
    {
     "data": {
      "text/plain": [
       "'example'"
      ]
     },
     "execution_count": 43,
     "metadata": {},
     "output_type": "execute_result"
    }
   ],
   "source": [
    "mail[8:-4]"
   ]
  },
  {
   "cell_type": "code",
   "execution_count": null,
   "id": "ff73743b",
   "metadata": {},
   "outputs": [],
   "source": [
    "# 先頭のインデックスからステップ数ごとに末尾インデックス-1までをスライス"
   ]
  },
  {
   "cell_type": "code",
   "execution_count": 44,
   "id": "10bc103e",
   "metadata": {},
   "outputs": [
    {
     "data": {
      "text/plain": [
       "'1,2,3,4,5,6,7,8,9'"
      ]
     },
     "execution_count": 44,
     "metadata": {},
     "output_type": "execute_result"
    }
   ],
   "source": [
    "str = '1,2,3,4,5,6,7,8,9'\n",
    "str[::1]"
   ]
  },
  {
   "cell_type": "code",
   "execution_count": 45,
   "id": "7d634786",
   "metadata": {},
   "outputs": [
    {
     "data": {
      "text/plain": [
       "'123456789'"
      ]
     },
     "execution_count": 45,
     "metadata": {},
     "output_type": "execute_result"
    }
   ],
   "source": [
    "# 先頭から末尾まで2文字ごとにスライス\n",
    "str[::2]"
   ]
  },
  {
   "cell_type": "code",
   "execution_count": 46,
   "id": "2ae034af",
   "metadata": {},
   "outputs": [
    {
     "data": {
      "text/plain": [
       "'2345678'"
      ]
     },
     "execution_count": 46,
     "metadata": {},
     "output_type": "execute_result"
    }
   ],
   "source": [
    "str[2:-2:2]"
   ]
  },
  {
   "cell_type": "code",
   "execution_count": 47,
   "id": "9d0cc072",
   "metadata": {},
   "outputs": [],
   "source": [
    "# 文字列の長さ"
   ]
  },
  {
   "cell_type": "code",
   "execution_count": 48,
   "id": "c421ae4a",
   "metadata": {},
   "outputs": [
    {
     "data": {
      "text/plain": [
       "19"
      ]
     },
     "execution_count": 48,
     "metadata": {},
     "output_type": "execute_result"
    }
   ],
   "source": [
    "len(mail)"
   ]
  },
  {
   "cell_type": "code",
   "execution_count": 49,
   "id": "c8154cc6",
   "metadata": {},
   "outputs": [
    {
     "data": {
      "text/plain": [
       "['1', '2', '3', '4', '5', '6', '7', '8', '9']"
      ]
     },
     "execution_count": 49,
     "metadata": {},
     "output_type": "execute_result"
    }
   ],
   "source": [
    "# カンマ区切りでリストにする\n",
    "str.split(',')"
   ]
  },
  {
   "cell_type": "code",
   "execution_count": 52,
   "id": "1241136c",
   "metadata": {},
   "outputs": [
    {
     "name": "stdout",
     "output_type": "stream",
     "text": [
      "1\n",
      "2\n",
      "3\n",
      "4\n",
      "5\n",
      "6\n",
      "7\n",
      "8\n",
      "9\n"
     ]
    }
   ],
   "source": [
    "# joinでリストを結合\n",
    "list = str.split(',')\n",
    "join = '\\n'.join(list)\n",
    "print(join)"
   ]
  },
  {
   "cell_type": "code",
   "execution_count": 53,
   "id": "55a1ad9a",
   "metadata": {},
   "outputs": [
    {
     "name": "stdout",
     "output_type": "stream",
     "text": [
      "こんばんはパイソンです\n"
     ]
    }
   ],
   "source": [
    "msg = 'こんばんはパイソンです'\n",
    "print(msg)"
   ]
  },
  {
   "cell_type": "code",
   "execution_count": 55,
   "id": "454cfdc2",
   "metadata": {},
   "outputs": [
    {
     "name": "stdout",
     "output_type": "stream",
     "text": [
      "調子はどう？パイソンです\n"
     ]
    }
   ],
   "source": [
    "# replaceで置き換え\n",
    "msg = msg.replace('こんばんは', '調子はどう？')\n",
    "print(msg)"
   ]
  },
  {
   "cell_type": "code",
   "execution_count": 56,
   "id": "2361fe73",
   "metadata": {},
   "outputs": [
    {
     "data": {
      "text/plain": [
       "'こんにちは'"
      ]
     },
     "execution_count": 56,
     "metadata": {},
     "output_type": "execute_result"
    }
   ],
   "source": [
    "# formatで文字列を作成\n",
    "'こん{}は'.format('にち')"
   ]
  },
  {
   "cell_type": "code",
   "execution_count": 57,
   "id": "93c7e4ea",
   "metadata": {},
   "outputs": [
    {
     "data": {
      "text/plain": [
       "'本日は10日です。'"
      ]
     },
     "execution_count": 57,
     "metadata": {},
     "output_type": "execute_result"
    }
   ],
   "source": [
    "'{}は{}です。'.format('本日', '10日')"
   ]
  },
  {
   "cell_type": "code",
   "execution_count": 58,
   "id": "6b9de9de",
   "metadata": {},
   "outputs": [
    {
     "data": {
      "text/plain": [
       "' 0.333'"
      ]
     },
     "execution_count": 58,
     "metadata": {},
     "output_type": "execute_result"
    }
   ],
   "source": [
    "# formatの小数点以下の桁数を指定\n",
    "'{: .3f}'.format(1/3)"
   ]
  },
  {
   "cell_type": "code",
   "execution_count": 60,
   "id": "f1ab8686",
   "metadata": {},
   "outputs": [
    {
     "data": {
      "text/plain": [
       "' 11,111,111,111.1234'"
      ]
     },
     "execution_count": 60,
     "metadata": {},
     "output_type": "execute_result"
    }
   ],
   "source": [
    "# formatでカンマ区切りにする\n",
    "'{: ,}'.format(11111111111.1234)"
   ]
  },
  {
   "cell_type": "code",
   "execution_count": null,
   "id": "ba7bf04e",
   "metadata": {},
   "outputs": [],
   "source": []
  },
  {
   "cell_type": "code",
   "execution_count": null,
   "id": "24c31eb3",
   "metadata": {},
   "outputs": [],
   "source": []
  },
  {
   "cell_type": "code",
   "execution_count": null,
   "id": "24991911",
   "metadata": {},
   "outputs": [],
   "source": []
  }
 ],
 "metadata": {
  "kernelspec": {
   "display_name": "Python 3 (ipykernel)",
   "language": "python",
   "name": "python3"
  },
  "language_info": {
   "codemirror_mode": {
    "name": "ipython",
    "version": 3
   },
   "file_extension": ".py",
   "mimetype": "text/x-python",
   "name": "python",
   "nbconvert_exporter": "python",
   "pygments_lexer": "ipython3",
   "version": "3.9.13"
  }
 },
 "nbformat": 4,
 "nbformat_minor": 5
}
