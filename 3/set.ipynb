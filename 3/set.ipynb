{
 "cells": [
  {
   "cell_type": "code",
   "execution_count": 1,
   "id": "f1d77d74",
   "metadata": {},
   "outputs": [],
   "source": [
    "# 集合（set）\n",
    "# ・リストやタプルと似ているが、重複した要素を持たない"
   ]
  },
  {
   "cell_type": "code",
   "execution_count": 2,
   "id": "6f2e1fe4",
   "metadata": {},
   "outputs": [
    {
     "data": {
      "text/plain": [
       "{'1月', '2月', '3月', '4月', '5月'}"
      ]
     },
     "execution_count": 2,
     "metadata": {},
     "output_type": "execute_result"
    }
   ],
   "source": [
    "month = {'1月', '2月', '3月', '4月', '5月'}\n",
    "month"
   ]
  },
  {
   "cell_type": "code",
   "execution_count": 3,
   "id": "27ea4045",
   "metadata": {},
   "outputs": [
    {
     "data": {
      "text/plain": [
       "{'P', 'h', 'n', 'o', 't', 'y'}"
      ]
     },
     "execution_count": 3,
     "metadata": {},
     "output_type": "execute_result"
    }
   ],
   "source": [
    "# 文字列から集合を作ると、1文字ずつ要素になる\n",
    "set('Python')"
   ]
  },
  {
   "cell_type": "code",
   "execution_count": 4,
   "id": "56d1cca4",
   "metadata": {},
   "outputs": [
    {
     "data": {
      "text/plain": [
       "{'App', 'Python'}"
      ]
     },
     "execution_count": 4,
     "metadata": {},
     "output_type": "execute_result"
    }
   ],
   "source": [
    "set(['Python', 'App'])"
   ]
  },
  {
   "cell_type": "code",
   "execution_count": 5,
   "id": "d529eb45",
   "metadata": {},
   "outputs": [
    {
     "data": {
      "text/plain": [
       "{'App', 'Python'}"
      ]
     },
     "execution_count": 5,
     "metadata": {},
     "output_type": "execute_result"
    }
   ],
   "source": [
    "set(('Python', 'App'))"
   ]
  },
  {
   "cell_type": "code",
   "execution_count": 6,
   "id": "0f29304e",
   "metadata": {},
   "outputs": [
    {
     "data": {
      "text/plain": [
       "{'スマッシュ', 'ボレー'}"
      ]
     },
     "execution_count": 6,
     "metadata": {},
     "output_type": "execute_result"
    }
   ],
   "source": [
    "# 辞書から作るとキーだけ集合になる\n",
    "set({'スマッシュ': 'バコン', 'ボレー': 'ぽこん'})"
   ]
  },
  {
   "cell_type": "code",
   "execution_count": 7,
   "id": "386ba12e",
   "metadata": {},
   "outputs": [],
   "source": [
    "# 集合を使って重複した要素を削除する"
   ]
  },
  {
   "cell_type": "code",
   "execution_count": 8,
   "id": "d25fc96f",
   "metadata": {},
   "outputs": [
    {
     "data": {
      "text/plain": [
       "{'スマッシュ', 'ボレー', 'ロブ'}"
      ]
     },
     "execution_count": 8,
     "metadata": {},
     "output_type": "execute_result"
    }
   ],
   "source": [
    "data = ['スマッシュ', 'ボレー', 'ロブ', 'スマッシュ', 'ボレー']\n",
    "data_set = set(data)\n",
    "data_set"
   ]
  },
  {
   "cell_type": "code",
   "execution_count": 10,
   "id": "240ae08e",
   "metadata": {},
   "outputs": [
    {
     "data": {
      "text/plain": [
       "['ロブ', 'ボレー', 'スマッシュ']"
      ]
     },
     "execution_count": 10,
     "metadata": {},
     "output_type": "execute_result"
    }
   ],
   "source": [
    "attacks = list(data_set)\n",
    "attacks"
   ]
  },
  {
   "cell_type": "code",
   "execution_count": null,
   "id": "3b2eb71d",
   "metadata": {},
   "outputs": [],
   "source": [
    "# - と &で演算"
   ]
  },
  {
   "cell_type": "code",
   "execution_count": 11,
   "id": "624ca788",
   "metadata": {},
   "outputs": [
    {
     "data": {
      "text/plain": [
       "{'ロブ'}"
      ]
     },
     "execution_count": 11,
     "metadata": {},
     "output_type": "execute_result"
    }
   ],
   "source": [
    "data1 = {'スマッシュ', 'ボレー', 'ロブ'}\n",
    "data2 = {'スマッシュ', 'ボレー', 'ドロップショット'}\n",
    "data1 - data2"
   ]
  },
  {
   "cell_type": "code",
   "execution_count": 12,
   "id": "93698f7b",
   "metadata": {},
   "outputs": [
    {
     "data": {
      "text/plain": [
       "{'スマッシュ', 'ボレー'}"
      ]
     },
     "execution_count": 12,
     "metadata": {},
     "output_type": "execute_result"
    }
   ],
   "source": [
    "data1 & data2"
   ]
  },
  {
   "cell_type": "code",
   "execution_count": 13,
   "id": "b15f6956",
   "metadata": {},
   "outputs": [],
   "source": [
    "# unionとintersection"
   ]
  },
  {
   "cell_type": "code",
   "execution_count": 14,
   "id": "0072cec4",
   "metadata": {},
   "outputs": [
    {
     "data": {
      "text/plain": [
       "{'グランドストローク', 'スマッシュ', 'ドロップショット', 'ボレー', 'ロブ'}"
      ]
     },
     "execution_count": 14,
     "metadata": {},
     "output_type": "execute_result"
    }
   ],
   "source": [
    "# unionで重複した要素を除いた集合を作る\n",
    "data1 = {'スマッシュ', 'ボレー', 'ロブ'}\n",
    "data2 = {'スマッシュ', 'ボレー', 'ドロップショット'}\n",
    "data3 = {'スマッシュ', 'ボレー', 'グランドストローク'}\n",
    "data1.union(data2, data3)"
   ]
  },
  {
   "cell_type": "code",
   "execution_count": 15,
   "id": "4e76eb27",
   "metadata": {},
   "outputs": [
    {
     "data": {
      "text/plain": [
       "{'スマッシュ', 'ボレー'}"
      ]
     },
     "execution_count": 15,
     "metadata": {},
     "output_type": "execute_result"
    }
   ],
   "source": [
    "# intersectionで重複した要素だけで集合を作る\n",
    "data1.intersection(data2, data3)"
   ]
  },
  {
   "cell_type": "code",
   "execution_count": null,
   "id": "b0112b0d",
   "metadata": {},
   "outputs": [],
   "source": []
  }
 ],
 "metadata": {
  "kernelspec": {
   "display_name": "Python 3 (ipykernel)",
   "language": "python",
   "name": "python3"
  },
  "language_info": {
   "codemirror_mode": {
    "name": "ipython",
    "version": 3
   },
   "file_extension": ".py",
   "mimetype": "text/x-python",
   "name": "python",
   "nbconvert_exporter": "python",
   "pygments_lexer": "ipython3",
   "version": "3.9.13"
  }
 },
 "nbformat": 4,
 "nbformat_minor": 5
}
