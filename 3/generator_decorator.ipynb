{
 "cells": [
  {
   "cell_type": "code",
   "execution_count": 1,
   "id": "193105d7",
   "metadata": {},
   "outputs": [],
   "source": [
    "# ジェネレーター\n",
    "# ・シーケンスを表現するオブジェクト\n",
    "# ・returnではなくyieldで返す（ジェネレーター関数）\n",
    "# ・前の呼び出しでシーケンスのどこを指していたのかを記憶しており、次の呼び出しを返す"
   ]
  },
  {
   "cell_type": "code",
   "execution_count": 4,
   "id": "97395863",
   "metadata": {},
   "outputs": [
    {
     "name": "stdout",
     "output_type": "stream",
     "text": [
      "「バ」\n"
     ]
    }
   ],
   "source": [
    "def generate(str):\n",
    "    for s in str:\n",
    "        yield '「' + s + '」'\n",
    "gen = generate('バコーンッッ!')\n",
    "print(next(gen))"
   ]
  },
  {
   "cell_type": "code",
   "execution_count": 5,
   "id": "3f7f0b2e",
   "metadata": {},
   "outputs": [
    {
     "name": "stdout",
     "output_type": "stream",
     "text": [
      "「コ」\n"
     ]
    }
   ],
   "source": [
    "print(next(gen))"
   ]
  },
  {
   "cell_type": "code",
   "execution_count": 6,
   "id": "701a3d17",
   "metadata": {},
   "outputs": [
    {
     "name": "stdout",
     "output_type": "stream",
     "text": [
      "「ー」\n"
     ]
    }
   ],
   "source": [
    "print(next(gen))"
   ]
  },
  {
   "cell_type": "code",
   "execution_count": 7,
   "id": "40aac2cf",
   "metadata": {},
   "outputs": [
    {
     "name": "stdout",
     "output_type": "stream",
     "text": [
      "「ン」\n"
     ]
    }
   ],
   "source": [
    "print(next(gen))"
   ]
  },
  {
   "cell_type": "code",
   "execution_count": 8,
   "id": "684d0c84",
   "metadata": {},
   "outputs": [
    {
     "name": "stdout",
     "output_type": "stream",
     "text": [
      "「ッ」\n"
     ]
    }
   ],
   "source": [
    "print(next(gen))"
   ]
  },
  {
   "cell_type": "code",
   "execution_count": 9,
   "id": "713bcc92",
   "metadata": {},
   "outputs": [
    {
     "name": "stdout",
     "output_type": "stream",
     "text": [
      "「ッ」\n"
     ]
    }
   ],
   "source": [
    "print(next(gen))"
   ]
  },
  {
   "cell_type": "code",
   "execution_count": 10,
   "id": "f7651d0c",
   "metadata": {},
   "outputs": [
    {
     "name": "stdout",
     "output_type": "stream",
     "text": [
      "「!」\n"
     ]
    }
   ],
   "source": [
    "print(next(gen))"
   ]
  },
  {
   "cell_type": "code",
   "execution_count": 12,
   "id": "40ab5753",
   "metadata": {},
   "outputs": [
    {
     "name": "stdout",
     "output_type": "stream",
     "text": [
      "「バ」\n",
      "「コ」\n",
      "「ー」\n",
      "「ン」\n",
      "「ッ」\n",
      "「ッ」\n",
      "「!」\n"
     ]
    }
   ],
   "source": [
    "# ジェネレーターはforで使える\n",
    "gen = generate('バコーンッッ!')\n",
    "for s in gen:\n",
    "    print(s)"
   ]
  },
  {
   "cell_type": "code",
   "execution_count": 13,
   "id": "69ac9f82",
   "metadata": {},
   "outputs": [],
   "source": [
    "# デコレーター\n",
    "# ・既存のコードを変えずに関数に機能を追加/変更できる"
   ]
  },
  {
   "cell_type": "code",
   "execution_count": 15,
   "id": "e063bd3b",
   "metadata": {},
   "outputs": [
    {
     "name": "stdout",
     "output_type": "stream",
     "text": [
      "function called: hello\n",
      "こんにちは！\n"
     ]
    }
   ],
   "source": [
    "def hello():\n",
    "    return 'こんにちは！'\n",
    "\n",
    "# 高階関数\n",
    "def dec(func):\n",
    "    def new_func():\n",
    "        print('function called: ' + func.__name__)\n",
    "        return func()\n",
    "    return new_func\n",
    "\n",
    "# hello関数を書き換え\n",
    "hello = dec(hello)\n",
    "\n",
    "print(hello())"
   ]
  },
  {
   "cell_type": "code",
   "execution_count": 16,
   "id": "ccc11309",
   "metadata": {},
   "outputs": [],
   "source": [
    "# デコレートしたい関数の上に@関数名を入れるでもOK\n",
    "@dec\n",
    "def hello():\n",
    "    return \"ごぶさた！\""
   ]
  },
  {
   "cell_type": "code",
   "execution_count": 17,
   "id": "c5ca4ae2",
   "metadata": {},
   "outputs": [
    {
     "name": "stdout",
     "output_type": "stream",
     "text": [
      "function called: hello\n",
      "ごぶさた！\n"
     ]
    }
   ],
   "source": [
    "print(hello())"
   ]
  },
  {
   "cell_type": "code",
   "execution_count": null,
   "id": "735d7d9d",
   "metadata": {},
   "outputs": [],
   "source": []
  },
  {
   "cell_type": "code",
   "execution_count": null,
   "id": "2adac693",
   "metadata": {},
   "outputs": [],
   "source": []
  },
  {
   "cell_type": "code",
   "execution_count": null,
   "id": "d307b7b8",
   "metadata": {},
   "outputs": [],
   "source": []
  }
 ],
 "metadata": {
  "kernelspec": {
   "display_name": "Python 3 (ipykernel)",
   "language": "python",
   "name": "python3"
  },
  "language_info": {
   "codemirror_mode": {
    "name": "ipython",
    "version": 3
   },
   "file_extension": ".py",
   "mimetype": "text/x-python",
   "name": "python",
   "nbconvert_exporter": "python",
   "pygments_lexer": "ipython3",
   "version": "3.9.13"
  }
 },
 "nbformat": 4,
 "nbformat_minor": 5
}
