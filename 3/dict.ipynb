{
 "cells": [
  {
   "cell_type": "code",
   "execution_count": null,
   "id": "b9d73b50",
   "metadata": {},
   "outputs": [],
   "source": [
    "# 辞書型（dict）\n",
    "# ・キーと値の組み合わせ\n",
    "# ・イミュータブル（書き換え不可）な型ならキーとして使える\n",
    "\n",
    "# 集合\n",
    "# ・集合（set型）は重複した要素を持たない\n",
    "# ・リストから重複した要素を取り除く時に使ったりする　リスト -> 集合 -> リスト"
   ]
  },
  {
   "cell_type": "code",
   "execution_count": 1,
   "id": "ce2067df",
   "metadata": {},
   "outputs": [
    {
     "name": "stdout",
     "output_type": "stream",
     "text": [
      "スマッシュ \n",
      " 「バコンッ」\n",
      "スマッシュ \n",
      " 「バコンッ」\n",
      "グランドストローク \n",
      " 「バッコーン」\n",
      "グランドストローク \n",
      " 「バッコーン」\n",
      "グランドストローク \n",
      " 「バッコーン」\n"
     ]
    }
   ],
   "source": [
    "import random\n",
    "\n",
    "sound = {\n",
    "    'グランドストローク': '「バッコーン」',\n",
    "    'スマッシュ': '「バコンッ」',\n",
    "    'ボレー': '「ベキィッ」'\n",
    "}\n",
    "for count in range(5):\n",
    "    x = random.randint(1, 10)\n",
    "    if x <= 4:\n",
    "        attack = 'グランドストローク'\n",
    "    elif x >= 5 and x <= 7:\n",
    "        attack = 'ボレー'\n",
    "    else:\n",
    "        attack = 'スマッシュ'\n",
    "    print(attack, '\\n', sound[attack])"
   ]
  },
  {
   "cell_type": "code",
   "execution_count": 89,
   "id": "3825c217",
   "metadata": {},
   "outputs": [
    {
     "name": "stdout",
     "output_type": "stream",
     "text": [
      "グランドストローク\n",
      "スマッシュ\n",
      "ボレー\n"
     ]
    }
   ],
   "source": [
    "# キーを取り出す\n",
    "for key in sound:\n",
    "    print(key)"
   ]
  },
  {
   "cell_type": "code",
   "execution_count": 41,
   "id": "71125b09",
   "metadata": {},
   "outputs": [
    {
     "name": "stdout",
     "output_type": "stream",
     "text": [
      "「バッコーン」\n",
      "「バコンッ」\n",
      "「ベキィッ」\n"
     ]
    }
   ],
   "source": [
    "# 値を取り出す\n",
    "for value in sound.values():\n",
    "    print(value)"
   ]
  },
  {
   "cell_type": "code",
   "execution_count": 90,
   "id": "e4383cc5",
   "metadata": {},
   "outputs": [
    {
     "name": "stdout",
     "output_type": "stream",
     "text": [
      "('グランドストローク', '「バッコーン」')\n",
      "('スマッシュ', '「バコンッ」')\n",
      "('ボレー', '「ベキィッ」')\n"
     ]
    }
   ],
   "source": [
    "# キーと値を取り出す\n",
    "for item in sound.items():\n",
    "    print(item)"
   ]
  },
  {
   "cell_type": "code",
   "execution_count": 91,
   "id": "537ced25",
   "metadata": {},
   "outputs": [
    {
     "data": {
      "text/plain": [
       "{'グランドストローク': '「バッコーン」', 'スマッシュ': '「バコンッ」', 'ボレー': '「ベキィッ」'}"
      ]
     },
     "execution_count": 91,
     "metadata": {},
     "output_type": "execute_result"
    }
   ],
   "source": [
    "# 内包表記で辞書を作る\n",
    "attack = ['グランドストローク', 'スマッシュ', 'ボレー']\n",
    "sound = ['「バッコーン」', '「バコンッ」', '「ベキィッ」']\n",
    "attacks = {i: j for (i, j) in zip(attack, sound)}\n",
    "attacks"
   ]
  },
  {
   "cell_type": "code",
   "execution_count": 92,
   "id": "96f68e98",
   "metadata": {},
   "outputs": [
    {
     "data": {
      "text/plain": [
       "{'「バッコーン」': 'グランドストローク', '「バコンッ」': 'スマッシュ', '「ベキィッ」': 'ボレー'}"
      ]
     },
     "execution_count": 92,
     "metadata": {},
     "output_type": "execute_result"
    }
   ],
   "source": [
    "# 内包表記でキーと値を逆にする\n",
    "attacks = {j: i for (i, j) in zip(attack, sound)}\n",
    "attacks"
   ]
  },
  {
   "cell_type": "code",
   "execution_count": null,
   "id": "95f64633",
   "metadata": {},
   "outputs": [],
   "source": []
  }
 ],
 "metadata": {
  "kernelspec": {
   "display_name": "Python 3 (ipykernel)",
   "language": "python",
   "name": "python3"
  },
  "language_info": {
   "codemirror_mode": {
    "name": "ipython",
    "version": 3
   },
   "file_extension": ".py",
   "mimetype": "text/x-python",
   "name": "python",
   "nbconvert_exporter": "python",
   "pygments_lexer": "ipython3",
   "version": "3.9.13"
  }
 },
 "nbformat": 4,
 "nbformat_minor": 5
}
