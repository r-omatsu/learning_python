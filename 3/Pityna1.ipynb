{
 "cells": [
  {
   "cell_type": "code",
   "execution_count": 2,
   "id": "b80a3e54",
   "metadata": {},
   "outputs": [
    {
     "name": "stdout",
     "output_type": "stream",
     "text": [
      "お名前は？ > \n",
      " さん、こんにちは！\n",
      " > \n",
      "......\n"
     ]
    }
   ],
   "source": [
    "name = input('お名前は？ > ')\n",
    "print('%s さん、こんにちは！' % name)\n",
    "prompt = name + ' > '\n",
    "while 1:\n",
    "    answer = input(prompt)\n",
    "    if answer == 'さよなら':\n",
    "        print('バイバイ')\n",
    "        break\n",
    "    elif not answer:\n",
    "        print('......')\n",
    "        break\n",
    "    print('「{}」なんですね。'.format(answer))"
   ]
  },
  {
   "cell_type": "code",
   "execution_count": null,
   "id": "d6649576",
   "metadata": {},
   "outputs": [],
   "source": []
  }
 ],
 "metadata": {
  "kernelspec": {
   "display_name": "Python 3 (ipykernel)",
   "language": "python",
   "name": "python3"
  },
  "language_info": {
   "codemirror_mode": {
    "name": "ipython",
    "version": 3
   },
   "file_extension": ".py",
   "mimetype": "text/x-python",
   "name": "python",
   "nbconvert_exporter": "python",
   "pygments_lexer": "ipython3",
   "version": "3.9.13"
  }
 },
 "nbformat": 4,
 "nbformat_minor": 5
}
