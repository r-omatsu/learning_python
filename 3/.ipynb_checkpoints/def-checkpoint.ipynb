{
 "cells": [
  {
   "cell_type": "code",
   "execution_count": 1,
   "id": "c69aaa44",
   "metadata": {},
   "outputs": [
    {
     "name": "stdout",
     "output_type": "stream",
     "text": [
      "スマッシュ -->バコーン\n",
      "スマッシュ -->バコーン\n",
      "スマッシュ -->バコーン\n",
      "スマッシュ -->バコーン\n",
      "スマッシュ -->バコーン\n"
     ]
    }
   ],
   "source": [
    "def add_sound(attack):\n",
    "    for i in range(5):\n",
    "        print(attack, '-->バコーン')\n",
    "    return attack\n",
    "\n",
    "result = add_sound('スマッシュ')"
   ]
  },
  {
   "cell_type": "code",
   "execution_count": 2,
   "id": "ed08e524",
   "metadata": {},
   "outputs": [
    {
     "name": "stdout",
     "output_type": "stream",
     "text": [
      "スマッシュ --> バコーン\n"
     ]
    }
   ],
   "source": [
    "def add_sound2(a, b):\n",
    "    print(a, '-->', b)\n",
    "    \n",
    "add_sound2('スマッシュ', 'バコーン')"
   ]
  },
  {
   "cell_type": "code",
   "execution_count": 3,
   "id": "2a79d968",
   "metadata": {},
   "outputs": [
    {
     "name": "stdout",
     "output_type": "stream",
     "text": [
      "スマッシュ --> バコーン\n"
     ]
    }
   ],
   "source": [
    "# キーワード引数で指定\n",
    "add_sound2(b='バコーン', a='スマッシュ')"
   ]
  },
  {
   "cell_type": "code",
   "execution_count": 4,
   "id": "c88d5f94",
   "metadata": {},
   "outputs": [
    {
     "name": "stdout",
     "output_type": "stream",
     "text": [
      "スマッシュ --> バコーン\n"
     ]
    }
   ],
   "source": [
    "# キーワード引数は位置指定の引数の後に書く\n",
    "add_sound2('スマッシュ', b='バコーン')"
   ]
  },
  {
   "cell_type": "code",
   "execution_count": 6,
   "id": "f32b86a0",
   "metadata": {},
   "outputs": [
    {
     "name": "stdout",
     "output_type": "stream",
     "text": [
      "スマッシュ --> バコーン\n"
     ]
    }
   ],
   "source": [
    "# デフォルト引数（デフォルトパラメータ）\n",
    "def add_sound3(a, b='バコーン'):\n",
    "    print(a, '-->', b)\n",
    "    \n",
    "add_sound3('スマッシュ')"
   ]
  },
  {
   "cell_type": "code",
   "execution_count": null,
   "id": "73321835",
   "metadata": {},
   "outputs": [],
   "source": [
    "# リストをデフォルトパラメータにするときの注意点"
   ]
  },
  {
   "cell_type": "code",
   "execution_count": 8,
   "id": "27ef5ced",
   "metadata": {},
   "outputs": [],
   "source": [
    "def append_sound(sounds=[]):\n",
    "    sounds.append('スパコンッ！')\n",
    "    return sounds"
   ]
  },
  {
   "cell_type": "code",
   "execution_count": 9,
   "id": "ddffa219",
   "metadata": {},
   "outputs": [
    {
     "data": {
      "text/plain": [
       "['スパコンッ！']"
      ]
     },
     "execution_count": 9,
     "metadata": {},
     "output_type": "execute_result"
    }
   ],
   "source": [
    "append_sound()"
   ]
  },
  {
   "cell_type": "code",
   "execution_count": 10,
   "id": "900a36a2",
   "metadata": {},
   "outputs": [
    {
     "data": {
      "text/plain": [
       "['スパコンッ！', 'スパコンッ！']"
      ]
     },
     "execution_count": 10,
     "metadata": {},
     "output_type": "execute_result"
    }
   ],
   "source": [
    "# 最初の呼び出し時に作成されたものが再利用されるため、要素が追加されていってしまう\n",
    "append_sound()"
   ]
  },
  {
   "cell_type": "code",
   "execution_count": 11,
   "id": "4268a375",
   "metadata": {},
   "outputs": [],
   "source": [
    "s = list() # 空のリストオブジェクトを作成\n",
    "\n",
    "def append_sound2(sounds=s):\n",
    "    if sounds is s:\n",
    "        sounds = []\n",
    "    sounds.append('スパコンッ！')\n",
    "    return sounds"
   ]
  },
  {
   "cell_type": "code",
   "execution_count": 12,
   "id": "947d7c02",
   "metadata": {},
   "outputs": [
    {
     "data": {
      "text/plain": [
       "['スパコンッ！']"
      ]
     },
     "execution_count": 12,
     "metadata": {},
     "output_type": "execute_result"
    }
   ],
   "source": [
    "append_sound2()"
   ]
  },
  {
   "cell_type": "code",
   "execution_count": 13,
   "id": "74839e4f",
   "metadata": {},
   "outputs": [
    {
     "data": {
      "text/plain": [
       "['スパコンッ！']"
      ]
     },
     "execution_count": 13,
     "metadata": {},
     "output_type": "execute_result"
    }
   ],
   "source": [
    "append_sound2()"
   ]
  },
  {
   "cell_type": "code",
   "execution_count": 14,
   "id": "2786d1f2",
   "metadata": {},
   "outputs": [],
   "source": [
    "# 可変長パラメーター"
   ]
  },
  {
   "cell_type": "code",
   "execution_count": 15,
   "id": "1995cf67",
   "metadata": {},
   "outputs": [
    {
     "name": "stdout",
     "output_type": "stream",
     "text": [
      "ポーン\n",
      "パコーン\n",
      "スコーン\n"
     ]
    }
   ],
   "source": [
    "# パラメーター名の前にアスタリスクをつけると可変長パラメーターになる\n",
    "# パラメーターの前にアスタリスクをつけると、パラメーターがタプルとして扱われるようになるため\n",
    "def sequence_sound(* args):\n",
    "    for s in args:\n",
    "        print(s)\n",
    "        \n",
    "sequence_sound('ポーン', 'パコーン', 'スコーン')"
   ]
  },
  {
   "cell_type": "code",
   "execution_count": 16,
   "id": "7aa31cde",
   "metadata": {},
   "outputs": [],
   "source": [
    "# 辞書型パラメーター\n",
    "# def 関数名(位置型, 位置型, 可変長型, 辞書型)の順で記載"
   ]
  },
  {
   "cell_type": "code",
   "execution_count": 17,
   "id": "e4c0571e",
   "metadata": {},
   "outputs": [
    {
     "name": "stdout",
     "output_type": "stream",
     "text": [
      "{'volley': 'ボーン', 'smash': 'バコーン'}\n"
     ]
    }
   ],
   "source": [
    "# パラメーターを**パラメーター名のように書くと、辞書型になる\n",
    "def attacks(**kwargs):\n",
    "    print(kwargs)\n",
    "    \n",
    "attacks(volley='ボーン', smash='バコーン')"
   ]
  },
  {
   "cell_type": "code",
   "execution_count": 18,
   "id": "4514c0ca",
   "metadata": {},
   "outputs": [],
   "source": [
    "# 関数オブジェクトと高階関数"
   ]
  },
  {
   "cell_type": "code",
   "execution_count": 19,
   "id": "0c7e3e04",
   "metadata": {},
   "outputs": [],
   "source": [
    "def service():\n",
    "    print('フラットサーブ')"
   ]
  },
  {
   "cell_type": "code",
   "execution_count": 20,
   "id": "05077c63",
   "metadata": {},
   "outputs": [],
   "source": [
    "# 高階関数\n",
    "# パラメーターで関数を取得して実行する\n",
    "def run_something(func):\n",
    "    func()"
   ]
  },
  {
   "cell_type": "code",
   "execution_count": 21,
   "id": "2675d6c2",
   "metadata": {},
   "outputs": [
    {
     "name": "stdout",
     "output_type": "stream",
     "text": [
      "フラットサーブ\n"
     ]
    }
   ],
   "source": [
    "# service()と書くと関数呼び出し、serviceと書くとオブジェクトとして扱われる\n",
    "run_something(service)"
   ]
  },
  {
   "cell_type": "code",
   "execution_count": 22,
   "id": "182079ca",
   "metadata": {},
   "outputs": [
    {
     "name": "stdout",
     "output_type": "stream",
     "text": [
      "ドロップショット --> ポワーン\n"
     ]
    }
   ],
   "source": [
    "def attack_sound(a, s):\n",
    "    print(a, '-->', s)\n",
    "    \n",
    "def run_something(func, arg1, arg2):\n",
    "    func(arg1, arg2)\n",
    "    \n",
    "run_something(attack_sound, 'ドロップショット', 'ポワーン')"
   ]
  },
  {
   "cell_type": "code",
   "execution_count": 23,
   "id": "304ae429",
   "metadata": {},
   "outputs": [],
   "source": [
    "# 関数内関数、クロージャー"
   ]
  },
  {
   "cell_type": "code",
   "execution_count": 24,
   "id": "d5c3c6b1",
   "metadata": {},
   "outputs": [
    {
     "data": {
      "text/plain": [
       "7"
      ]
     },
     "execution_count": 24,
     "metadata": {},
     "output_type": "execute_result"
    }
   ],
   "source": [
    "# 関数内関数1\n",
    "def outer(a, b):\n",
    "    def inner(c, d):\n",
    "        return c + d\n",
    "    return inner(a, b)\n",
    "\n",
    "outer(1, 6)"
   ]
  },
  {
   "cell_type": "code",
   "execution_count": 26,
   "id": "3eb07c78",
   "metadata": {},
   "outputs": [
    {
     "data": {
      "text/plain": [
       "'フォアハンドストローク--> バコーン'"
      ]
     },
     "execution_count": 26,
     "metadata": {},
     "output_type": "execute_result"
    }
   ],
   "source": [
    "# 関数内関数2\n",
    "def add_sound(stroke):\n",
    "    def inner(s):\n",
    "        return s + '--> バコーン'\n",
    "    return inner(stroke)\n",
    "\n",
    "add_sound('フォアハンドストローク')"
   ]
  },
  {
   "cell_type": "code",
   "execution_count": 41,
   "id": "d2f23558",
   "metadata": {},
   "outputs": [],
   "source": [
    "# クロージャー\n",
    "def add_sound(stroke):\n",
    "    # innerにはパラメーターがなく、add_soundのパラメーターにアクセスできる\n",
    "    def inner():　# クロージャー\n",
    "        return stroke + '--> バコーン'\n",
    "    # 関数オブジェクトを返す\n",
    "    return inner"
   ]
  },
  {
   "cell_type": "code",
   "execution_count": 42,
   "id": "0e94f45d",
   "metadata": {},
   "outputs": [
    {
     "data": {
      "text/plain": [
       "'バックハンドストローク--> バコーン'"
      ]
     },
     "execution_count": 42,
     "metadata": {},
     "output_type": "execute_result"
    }
   ],
   "source": [
    "a = add_sound('バックハンドストローク')\n",
    "b = add_sound('バックハンドボレー')"
   ]
  },
  {
   "cell_type": "code",
   "execution_count": 33,
   "id": "0667e396",
   "metadata": {},
   "outputs": [
    {
     "data": {
      "text/plain": [
       "'バックハンドストローク--> バコーン'"
      ]
     },
     "execution_count": 33,
     "metadata": {},
     "output_type": "execute_result"
    }
   ],
   "source": [
    "# クロージャーとして書くと、作成された時のパラメーターを覚えている\n",
    "a()"
   ]
  },
  {
   "cell_type": "code",
   "execution_count": 34,
   "id": "9f332a51",
   "metadata": {},
   "outputs": [
    {
     "data": {
      "text/plain": [
       "'バックハンドボレー--> バコーン'"
      ]
     },
     "execution_count": 34,
     "metadata": {},
     "output_type": "execute_result"
    }
   ],
   "source": [
    "b()"
   ]
  },
  {
   "cell_type": "code",
   "execution_count": null,
   "id": "289552a4",
   "metadata": {},
   "outputs": [],
   "source": [
    "# ラムダ式"
   ]
  },
  {
   "cell_type": "code",
   "execution_count": 38,
   "id": "5d4dfccf",
   "metadata": {},
   "outputs": [],
   "source": [
    "# 高階関数\n",
    "def edit_sound(sounds, func):\n",
    "    for sound in sounds:\n",
    "        print(func(sound))"
   ]
  },
  {
   "cell_type": "code",
   "execution_count": 35,
   "id": "1b0c74aa",
   "metadata": {},
   "outputs": [],
   "source": [
    "# 音のリスト\n",
    "pattern = ['ボーン', 'バコーン', 'ビシッ']"
   ]
  },
  {
   "cell_type": "code",
   "execution_count": 36,
   "id": "c27cbb80",
   "metadata": {},
   "outputs": [],
   "source": [
    "# 音の強調\n",
    "def impact(sound):\n",
    "    return sound + '!!!'"
   ]
  },
  {
   "cell_type": "code",
   "execution_count": 39,
   "id": "03292b4b",
   "metadata": {},
   "outputs": [
    {
     "name": "stdout",
     "output_type": "stream",
     "text": [
      "ボーン!!!\n",
      "バコーン!!!\n",
      "ビシッ!!!\n"
     ]
    }
   ],
   "source": [
    "edit_sound(pattern, impact)"
   ]
  },
  {
   "cell_type": "code",
   "execution_count": 40,
   "id": "60862b74",
   "metadata": {},
   "outputs": [
    {
     "name": "stdout",
     "output_type": "stream",
     "text": [
      "ボーン!!!\n",
      "バコーン!!!\n",
      "ビシッ!!!\n"
     ]
    }
   ],
   "source": [
    "# ラムダ式でimpact関数を書き換える\n",
    "edit_sound(pattern, lambda sound: sound + '!!!')"
   ]
  },
  {
   "cell_type": "code",
   "execution_count": null,
   "id": "fe5a8623",
   "metadata": {},
   "outputs": [],
   "source": []
  }
 ],
 "metadata": {
  "kernelspec": {
   "display_name": "Python 3 (ipykernel)",
   "language": "python",
   "name": "python3"
  },
  "language_info": {
   "codemirror_mode": {
    "name": "ipython",
    "version": 3
   },
   "file_extension": ".py",
   "mimetype": "text/x-python",
   "name": "python",
   "nbconvert_exporter": "python",
   "pygments_lexer": "ipython3",
   "version": "3.9.13"
  }
 },
 "nbformat": 4,
 "nbformat_minor": 5
}
