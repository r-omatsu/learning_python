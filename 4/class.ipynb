{
 "cells": [
  {
   "cell_type": "code",
   "execution_count": null,
   "id": "a74ef5a7",
   "metadata": {},
   "outputs": [],
   "source": [
    "# クラスの利用"
   ]
  },
  {
   "cell_type": "code",
   "execution_count": 2,
   "metadata": {},
   "outputs": [],
   "source": [
    "class MyCoach:\n",
    "    '''鬼コーチクラス'''\n",
    "\n",
    "    def __init__(self, max):\n",
    "        '''\n",
    "        初期化メソッド\n",
    "\n",
    "        self: インスタンスの参照情報\n",
    "        max: 繰り返しの回数\n",
    "        '''\n",
    "        # インスタンス変数を宣言\n",
    "        # インスタンス変数はインスタンスごとの用意される\n",
    "        self.max = max\n",
    "        self.count = 0\n",
    "\n",
    "    def teach(self):\n",
    "        '''\n",
    "        熱血指導メソッド\n",
    "\n",
    "        self: インスタンスの参照情報\n",
    "        '''\n",
    "        if self.count < self.max:\n",
    "            print(\"もっと強く\")\n",
    "        else:\n",
    "            print(\"OKだ\")\n",
    "\n",
    "        self.count += 1"
   ]
  },
  {
   "cell_type": "code",
   "execution_count": 5,
   "id": "d41d279c",
   "metadata": {},
   "outputs": [
    {
     "name": "stdout",
     "output_type": "stream",
     "text": [
      "スマッシュ\n",
      "もっと強く\n",
      "スマッシュ\n",
      "もっと強く\n",
      "スマッシュ\n",
      "もっと強く\n",
      "スマッシュ\n",
      "もっと強く\n",
      "スマッシュ\n",
      "もっと強く\n",
      "スマッシュ\n",
      "OKだ\n"
     ]
    }
   ],
   "source": [
    "mc = MyCoach(5)\n",
    "for i in range(6):\n",
    "    print('スマッシュ')\n",
    "    mc.teach()"
   ]
  },
  {
   "cell_type": "code",
   "execution_count": 6,
   "id": "30dc1e78",
   "metadata": {},
   "outputs": [],
   "source": [
    "class MyCoach2:\n",
    "    \"\"\"鬼コーチクラス\"\"\"\n",
    "\n",
    "    # クラス変数を宣言\n",
    "    # クラス変数にアクセス：クラス名.クラス変数名 or インスタンス.__class__.クラス変数名\n",
    "    # クラス名が変更になった場合を考え、「インスタンス.__class__.クラス変数名」と書いてアクセスした方が良いï\n",
    "    count = 0\n",
    "    max = 5\n",
    "\n",
    "    def teach(self):\n",
    "        if self.__class__.count < self.__class__.max:\n",
    "            print(\"もっと強く\")\n",
    "        else:\n",
    "            print(\"OKだ\")\n",
    "        self.__class__.count += 1"
   ]
  },
  {
   "cell_type": "code",
   "execution_count": 7,
   "id": "2435120d",
   "metadata": {},
   "outputs": [
    {
     "name": "stdout",
     "output_type": "stream",
     "text": [
      "スマッシュ\n",
      "もっと強く\n",
      "スマッシュ\n",
      "もっと強く\n",
      "スマッシュ\n",
      "もっと強く\n",
      "ライジング\n",
      "もっと強く\n",
      "ライジング\n",
      "もっと強く\n",
      "ライジング\n",
      "OKだ\n"
     ]
    }
   ],
   "source": [
    "my1 = MyCoach2()\n",
    "for i in range(3):\n",
    "    print(\"スマッシュ\")\n",
    "    my1.teach()\n",
    "\n",
    "my2 = MyCoach2()\n",
    "for i in range(3):\n",
    "    print(\"ライジング\")\n",
    "    my2.teach()"
   ]
  },
  {
   "cell_type": "code",
   "execution_count": 8,
   "id": "09d76b03",
   "metadata": {},
   "outputs": [
    {
     "name": "stdout",
     "output_type": "stream",
     "text": [
      "スマッシュ\n",
      "もっと強く\n",
      "スマッシュ\n",
      "もっと強く\n",
      "スマッシュ\n",
      "もっと強く\n",
      "ライジング\n",
      "もっと強く\n",
      "ライジング\n",
      "もっと強く\n",
      "ライジング\n",
      "OKだ\n",
      "トップスピン\n",
      "もっと強く\n",
      "トップスピン\n",
      "もっと強く\n"
     ]
    }
   ],
   "source": [
    "oni1 = MyCoach2()\n",
    "# クラス変数の値を外部から変更\n",
    "MyCoach2.count = 0\n",
    "for i in range(3):\n",
    "    print('スマッシュ')\n",
    "    oni1.teach()\n",
    "oni2 = MyCoach2()\n",
    "for i in range(3):\n",
    "    print('ライジング')\n",
    "    oni2.teach()\n",
    "# クラス変数の値を外部から変更\n",
    "MyCoach2.count = 0\n",
    "oni3 = MyCoach2()\n",
    "for i in range(2):\n",
    "    print('トップスピン')\n",
    "    oni3.teach()"
   ]
  },
  {
   "cell_type": "code",
   "execution_count": null,
   "id": "c0fa4958",
   "metadata": {},
   "outputs": [],
   "source": [
    "# クラスメソッドにする\n",
    "# 今回のケースだと、MyCoach2にはクラス変数しかなく、teach()メソッドもクラス変数しか扱っていないため、\n",
    "# teach()をクラスメソッドにしてしまっていい"
   ]
  },
  {
   "cell_type": "code",
   "execution_count": 9,
   "id": "0314df14",
   "metadata": {},
   "outputs": [],
   "source": [
    "class MyCoach3:\n",
    "    \"\"\"鬼コーチクラス\"\"\"\n",
    "\n",
    "    count = 0\n",
    "    max = 5\n",
    "\n",
    "    @classmethod  # デコレーターを指定\n",
    "    def teach(cls):  # クラスメソッドの定義\n",
    "        if cls.count < cls.max:\n",
    "            print(\"もっと強く\")\n",
    "        else:\n",
    "            print(\"OKだ\")\n",
    "        cls.count += 1"
   ]
  },
  {
   "cell_type": "code",
   "execution_count": 10,
   "id": "9e7bacd4",
   "metadata": {},
   "outputs": [
    {
     "name": "stdout",
     "output_type": "stream",
     "text": [
      "スマッシュ\n",
      "もっと強く\n",
      "スマッシュ\n",
      "もっと強く\n",
      "スマッシュ\n",
      "もっと強く\n",
      "ライジング\n",
      "もっと強く\n",
      "ライジング\n",
      "もっと強く\n",
      "ライジング\n",
      "OKだ\n"
     ]
    }
   ],
   "source": [
    "for i in range(3):\n",
    "    print('スマッシュ')\n",
    "    # クラスメソッドはインスタンス化せずに「クラス名.メソッド名」で呼べる\n",
    "    MyCoach3.teach()\n",
    "\n",
    "for i in range(3):\n",
    "    print('ライジング')\n",
    "    MyCoach3.teach()"
   ]
  },
  {
   "cell_type": "code",
   "execution_count": null,
   "id": "7f315cfd",
   "metadata": {},
   "outputs": [],
   "source": []
  },
  {
   "cell_type": "code",
   "execution_count": null,
   "id": "bb11e74d",
   "metadata": {},
   "outputs": [],
   "source": []
  },
  {
   "cell_type": "code",
   "execution_count": null,
   "id": "cbfc09f6",
   "metadata": {},
   "outputs": [],
   "source": []
  }
 ],
 "metadata": {
  "kernelspec": {
   "display_name": "Python 3",
   "language": "python",
   "name": "python3"
  },
  "language_info": {
   "codemirror_mode": {
    "name": "ipython",
    "version": 3
   },
   "file_extension": ".py",
   "mimetype": "text/x-python",
   "name": "python",
   "nbconvert_exporter": "python",
   "pygments_lexer": "ipython3",
   "version": "3.11.2"
  },
  "vscode": {
   "interpreter": {
    "hash": "b0fa6594d8f4cbf19f97940f81e996739fb7646882a419484c72d19e05852a7e"
   }
  }
 },
 "nbformat": 4,
 "nbformat_minor": 5
}
