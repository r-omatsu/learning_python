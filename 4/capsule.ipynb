{
 "cells": [
  {
   "cell_type": "code",
   "execution_count": 1,
   "metadata": {},
   "outputs": [],
   "source": [
    "# カプセル化\n",
    "# プロパティという関節手kにアクセスできる仕組みがある"
   ]
  },
  {
   "cell_type": "code",
   "execution_count": 2,
   "metadata": {},
   "outputs": [],
   "source": [
    "# カプセル化してない\n",
    "class DefaultCoach:\n",
    "    \"\"\"デフォルト値で初期化される鬼コーチクラス\"\"\"\n",
    "\n",
    "    def __init__(self, max=5, count=0):\n",
    "        \"\"\"\n",
    "        初期化メソッド\n",
    "\n",
    "        self: インスタンスの参照情報\n",
    "        max: 繰り返しの回数\n",
    "        count: countの初期値\n",
    "        \"\"\"\n",
    "        self.max = max\n",
    "        self.count = count\n",
    "\n",
    "    def teach(self):\n",
    "        \"\"\"\n",
    "        熱血指導メソッド\n",
    "\n",
    "        self: インスタンスの参照情報\n",
    "        \"\"\"\n",
    "        if self.count < self.max:\n",
    "            print(\"もっと強く\")\n",
    "        else:\n",
    "            print(\"OKだ\")\n",
    "\n",
    "        self.count += 1"
   ]
  },
  {
   "cell_type": "code",
   "execution_count": 3,
   "metadata": {},
   "outputs": [
    {
     "name": "stdout",
     "output_type": "stream",
     "text": [
      "スマッシュ\n",
      "もっと強く\n",
      "スマッシュ\n",
      "もっと強く\n",
      "スマッシュ\n",
      "もっと強く\n",
      "スマッシュ\n",
      "もっと強く\n",
      "スマッシュ\n",
      "OKだ\n"
     ]
    }
   ],
   "source": [
    "df = DefaultCoach()\n",
    "df.count = 1\n",
    "for i in range(5):\n",
    "    print('スマッシュ')\n",
    "    df.teach()"
   ]
  },
  {
   "cell_type": "code",
   "execution_count": null,
   "metadata": {},
   "outputs": [],
   "source": [
    "# __による隠蔽\n",
    "# ・変数名やメソッド名に__をつけると外部からアクセスできなくなる\n",
    "#   → 隠蔽、カプセル化"
   ]
  },
  {
   "cell_type": "code",
   "execution_count": null,
   "metadata": {},
   "outputs": [],
   "source": [
    "# カプセル化した\n",
    "class DefaultCoach:\n",
    "    \"\"\"プロパティを実装した鬼コーチクラス\"\"\"\n",
    "\n",
    "    def __init__(self, max=5, count=0):\n",
    "        \"\"\"\n",
    "        初期化メソッド\n",
    "\n",
    "        self: インスタンスの参照情報\n",
    "        max: 繰り返しの回数\n",
    "        count: countの初期値\n",
    "        \"\"\"\n",
    "        self.__max = max\n",
    "        self.__count = count\n",
    "\n",
    "    def get_max(self):\n",
    "        return self.__max\n",
    "\n",
    "    def set_max(self, max):\n",
    "        self.__max = max\n",
    "\n",
    "    def get_count(self):\n",
    "        return self.__count\n",
    "\n",
    "    def set_count(self, count):\n",
    "        self.__count = count\n",
    "\n",
    "    # maxプロパティの定義\n",
    "    # get_maxとset_maxを呼び出す機能を持ったmaxプロパティができる\n",
    "    max = property(get_max, set_max)\n",
    "    # countプロパティの定義\n",
    "    # get_countとset_countを呼び出す機能を持ったcountプロパティができる\n",
    "    count = property(get_count, set_count)\n",
    "\n",
    "    def teach(self):\n",
    "        \"\"\"\n",
    "        熱血指導メソッド\n",
    "\n",
    "        self: インスタンスの参照情報\n",
    "        \"\"\"\n",
    "        if self.count < self.max:\n",
    "            print(\"もっと強く\")\n",
    "        else:\n",
    "            print(\"OKだ\")\n",
    "\n",
    "        self.count += 1"
   ]
  }
 ],
 "metadata": {
  "kernelspec": {
   "display_name": "Python 3",
   "language": "python",
   "name": "python3"
  },
  "language_info": {
   "codemirror_mode": {
    "name": "ipython",
    "version": 3
   },
   "file_extension": ".py",
   "mimetype": "text/x-python",
   "name": "python",
   "nbconvert_exporter": "python",
   "pygments_lexer": "ipython3",
   "version": "3.11.2"
  },
  "orig_nbformat": 4,
  "vscode": {
   "interpreter": {
    "hash": "b0fa6594d8f4cbf19f97940f81e996739fb7646882a419484c72d19e05852a7e"
   }
  }
 },
 "nbformat": 4,
 "nbformat_minor": 2
}
